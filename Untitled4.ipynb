{
  "nbformat": 4,
  "nbformat_minor": 0,
  "metadata": {
    "colab": {
      "provenance": [],
      "authorship_tag": "ABX9TyPdfKOEzPttrg4E6+CH+rc3",
      "include_colab_link": true
    },
    "kernelspec": {
      "name": "python3",
      "display_name": "Python 3"
    },
    "language_info": {
      "name": "python"
    }
  },
  "cells": [
    {
      "cell_type": "markdown",
      "metadata": {
        "id": "view-in-github",
        "colab_type": "text"
      },
      "source": [
        "<a href=\"https://colab.research.google.com/github/SindhuraMeenavalli/python-full-satck-development/blob/main/Untitled4.ipynb\" target=\"_parent\"><img src=\"https://colab.research.google.com/assets/colab-badge.svg\" alt=\"Open In Colab\"/></a>"
      ]
    },
    {
      "cell_type": "code",
      "execution_count": null,
      "metadata": {
        "id": "LZkuummrCSTR"
      },
      "outputs": [],
      "source": [
        "n= int(input(\"Enter the no below 10:\")) \n",
        "for i in range(n): \n",
        "    print(i)\n",
        "\n",
        "a=int(input('enter the number:'))\n",
        "#b=input('enter the text:')\n",
        "for i in range(a):\n",
        "    print(i*3)\n",
        "\n",
        "a=int(input('enter the number:'))\n",
        "b=input('enter the text:')\n",
        "for i in range(a):\n",
        "    print((i)*b)\n",
        "\n",
        "n= int(input(\"Enter the no below 10:\")) \n",
        "name=input(\"enter the Character(s):\") \n",
        "for i in range(n): \n",
        "    print(\" \"*(n-i),name* (i+1))\n",
        "\n",
        "n= int(input(\"Enter the no below 10:\")) \n",
        "name=input(\"enter the Character(s):\") \n",
        "for i in range(n): \n",
        "    print(\"  \"*(n-i),name* (2*i+1))\n",
        "\n",
        "n=int(input(\"Enter no.of times = \"))\n",
        "x=str(input(\"Enter String = \"))\n",
        "for i in range(n):\n",
        "    for j in range(i+1):\n",
        "        print(x,end=\" \")\n",
        "    print(end=\"\\n\")\n",
        "\n",
        "a=int(input('enter the number:'))\n",
        "b=input('enter the text:')\n",
        "b=b+\" \"\n",
        "for i in range(a):\n",
        "    print((i+1)*b)\n",
        "\n",
        "a=int(input('enter the number:'))\n",
        "b=input('enter the text:')\n",
        "for i in range(a):\n",
        "    print((i+1)*b)\n",
        "    print(end=\" \\n\")\n",
        "\n",
        "i1=int(input(\"Enter the no. \"))\n",
        "s=str(input(\"Enter symbol or name \"))\n",
        "for i in range(i1):\n",
        "    for j in range(i+1):\n",
        "        print(s,end=\" \")\n",
        "    print()\n",
        "\n",
        "n=int(input(\"Enter no.of times = \"))\n",
        "x=str(input(\"Enter String = \"))\n",
        "b=\" \"\n",
        "for i in range(n):\n",
        "    print(int((n-i))*b,end=\"\")\n",
        "    for j in range(i+1):\n",
        "        print(x,end=\" \")\n",
        "    print(end=\"\\n\")\n",
        "\n",
        "n=int(input(\"Enter the no. \"))\n",
        "s=input(\"Enter symbol or name \")\n",
        "for i in range(n):\n",
        "    for j in range(n-1):\n",
        "        print(end=\" \")\n",
        "    for k in range(i+1):\n",
        "        print(s,end=\" \")\n",
        "    n=n-1\n",
        "    print()\n",
        "\n",
        "n=int(input(\"Enter the no. \"))\n",
        "s=input(\"Enter symbol or name \")\n",
        "for i in range(n):\n",
        "    for j in range(n-1):\n",
        "        print(end=\" \"*len(s))\n",
        "    for k in range(i+1):\n",
        "        print(s,end=\" \"*len(s))\n",
        "    n=n-1\n",
        "    print()\n",
        "\n",
        "n = int(input(\"Enter the no.:\"))\n",
        "name = input(\"enter the name:\")\n",
        "for i in range(n):\n",
        "    for j in range(n-i-1):\n",
        "        print(\" \"*len(name), end = \" \")\n",
        "        for j in range(i+1):\n",
        "            print(name,\" \"*len(name), end = \" \")\n",
        "        print()"
      ]
    }
  ]
}